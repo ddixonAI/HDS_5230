{
 "cells": [
  {
   "cell_type": "markdown",
   "metadata": {},
   "source": [
    "# HDS 5230\n",
    "## Week 4\n",
    "\n",
    "High Performance Computing"
   ]
  },
  {
   "cell_type": "code",
   "execution_count": 2,
   "metadata": {},
   "outputs": [],
   "source": [
    "import pandas as pd\n",
    "import numpy as np"
   ]
  },
  {
   "cell_type": "code",
   "execution_count": 4,
   "metadata": {},
   "outputs": [
    {
     "data": {
      "text/html": [
       "<div>\n",
       "<style scoped>\n",
       "    .dataframe tbody tr th:only-of-type {\n",
       "        vertical-align: middle;\n",
       "    }\n",
       "\n",
       "    .dataframe tbody tr th {\n",
       "        vertical-align: top;\n",
       "    }\n",
       "\n",
       "    .dataframe thead th {\n",
       "        text-align: right;\n",
       "    }\n",
       "</style>\n",
       "<table border=\"1\" class=\"dataframe\">\n",
       "  <thead>\n",
       "    <tr style=\"text-align: right;\">\n",
       "      <th></th>\n",
       "      <th>bizID</th>\n",
       "      <th>bizCat</th>\n",
       "      <th>bizCatSub</th>\n",
       "      <th>bizName</th>\n",
       "      <th>bizAddr</th>\n",
       "      <th>bizCity</th>\n",
       "      <th>bizState</th>\n",
       "      <th>bizZip</th>\n",
       "      <th>bizPhone</th>\n",
       "      <th>bizFax</th>\n",
       "      <th>...</th>\n",
       "      <th>bizURL</th>\n",
       "      <th>locAreaCode</th>\n",
       "      <th>locFIPS</th>\n",
       "      <th>locTimeZone</th>\n",
       "      <th>locDST</th>\n",
       "      <th>locLat</th>\n",
       "      <th>locLong</th>\n",
       "      <th>locMSA</th>\n",
       "      <th>locPMSA</th>\n",
       "      <th>locCounty</th>\n",
       "    </tr>\n",
       "  </thead>\n",
       "  <tbody>\n",
       "    <tr>\n",
       "      <th>0</th>\n",
       "      <td>1</td>\n",
       "      <td>Clinics</td>\n",
       "      <td>Clinics</td>\n",
       "      <td>Hino Ronald H MD</td>\n",
       "      <td>98-151 Pali Momi Street Suite 142</td>\n",
       "      <td>Aiea</td>\n",
       "      <td>HI</td>\n",
       "      <td>96701</td>\n",
       "      <td>(808)487-2477</td>\n",
       "      <td>NaN</td>\n",
       "      <td>...</td>\n",
       "      <td>NaN</td>\n",
       "      <td>808</td>\n",
       "      <td>15003</td>\n",
       "      <td>PST-2</td>\n",
       "      <td>N</td>\n",
       "      <td>21.3980</td>\n",
       "      <td>-157.8981</td>\n",
       "      <td>3320.0</td>\n",
       "      <td>NaN</td>\n",
       "      <td>Honolulu</td>\n",
       "    </tr>\n",
       "    <tr>\n",
       "      <th>1</th>\n",
       "      <td>2</td>\n",
       "      <td>Clinics</td>\n",
       "      <td>Clinics</td>\n",
       "      <td>Farmer Joesph F Md</td>\n",
       "      <td>1225 Breckenridge Drive</td>\n",
       "      <td>Little Rock</td>\n",
       "      <td>AR</td>\n",
       "      <td>72205</td>\n",
       "      <td>(501)225-2594</td>\n",
       "      <td>NaN</td>\n",
       "      <td>...</td>\n",
       "      <td>NaN</td>\n",
       "      <td>501</td>\n",
       "      <td>5119</td>\n",
       "      <td>CST</td>\n",
       "      <td>Y</td>\n",
       "      <td>34.7495</td>\n",
       "      <td>-92.3533</td>\n",
       "      <td>4400.0</td>\n",
       "      <td>NaN</td>\n",
       "      <td>Pulaski</td>\n",
       "    </tr>\n",
       "    <tr>\n",
       "      <th>2</th>\n",
       "      <td>3</td>\n",
       "      <td>Clinics</td>\n",
       "      <td>Clinics &amp; Medical Centers</td>\n",
       "      <td>Najjar Fadi Md</td>\n",
       "      <td>1155 West Linda Avenue Suite B</td>\n",
       "      <td>Hermiston</td>\n",
       "      <td>OR</td>\n",
       "      <td>97838</td>\n",
       "      <td>(541)289-1122</td>\n",
       "      <td>NaN</td>\n",
       "      <td>...</td>\n",
       "      <td>NaN</td>\n",
       "      <td>541</td>\n",
       "      <td>41059</td>\n",
       "      <td>PST</td>\n",
       "      <td>Y</td>\n",
       "      <td>45.8456</td>\n",
       "      <td>-119.2817</td>\n",
       "      <td>NaN</td>\n",
       "      <td>NaN</td>\n",
       "      <td>Umatilla</td>\n",
       "    </tr>\n",
       "    <tr>\n",
       "      <th>3</th>\n",
       "      <td>4</td>\n",
       "      <td>Clinics</td>\n",
       "      <td>Clinics &amp; Medical Centers</td>\n",
       "      <td>Kittson Memorial Upper Level Nursing Home</td>\n",
       "      <td>1010 South Birch Avenue</td>\n",
       "      <td>Hallock</td>\n",
       "      <td>MN</td>\n",
       "      <td>56728</td>\n",
       "      <td>(218)843-2525</td>\n",
       "      <td>NaN</td>\n",
       "      <td>...</td>\n",
       "      <td>NaN</td>\n",
       "      <td>218</td>\n",
       "      <td>27069</td>\n",
       "      <td>CST</td>\n",
       "      <td>Y</td>\n",
       "      <td>48.7954</td>\n",
       "      <td>-97.0090</td>\n",
       "      <td>NaN</td>\n",
       "      <td>NaN</td>\n",
       "      <td>Kittson</td>\n",
       "    </tr>\n",
       "    <tr>\n",
       "      <th>4</th>\n",
       "      <td>5</td>\n",
       "      <td>Clinics</td>\n",
       "      <td>Clinics &amp; Medical Centers</td>\n",
       "      <td>Thompson Robert B Md</td>\n",
       "      <td>100 North Eagle Creek Drive</td>\n",
       "      <td>Lexington</td>\n",
       "      <td>KY</td>\n",
       "      <td>40509</td>\n",
       "      <td>(859)258-4000</td>\n",
       "      <td>NaN</td>\n",
       "      <td>...</td>\n",
       "      <td>www.lexingtonclinic.com</td>\n",
       "      <td>859</td>\n",
       "      <td>21067</td>\n",
       "      <td>EST</td>\n",
       "      <td>Y</td>\n",
       "      <td>37.9935</td>\n",
       "      <td>-84.3712</td>\n",
       "      <td>4280.0</td>\n",
       "      <td>NaN</td>\n",
       "      <td>Fayette</td>\n",
       "    </tr>\n",
       "  </tbody>\n",
       "</table>\n",
       "<p>5 rows × 21 columns</p>\n",
       "</div>"
      ],
      "text/plain": [
       "   bizID   bizCat                  bizCatSub  \\\n",
       "0      1  Clinics                    Clinics   \n",
       "1      2  Clinics                    Clinics   \n",
       "2      3  Clinics  Clinics & Medical Centers   \n",
       "3      4  Clinics  Clinics & Medical Centers   \n",
       "4      5  Clinics  Clinics & Medical Centers   \n",
       "\n",
       "                                     bizName  \\\n",
       "0                           Hino Ronald H MD   \n",
       "1                         Farmer Joesph F Md   \n",
       "2                             Najjar Fadi Md   \n",
       "3  Kittson Memorial Upper Level Nursing Home   \n",
       "4                       Thompson Robert B Md   \n",
       "\n",
       "                             bizAddr      bizCity bizState  bizZip  \\\n",
       "0  98-151 Pali Momi Street Suite 142         Aiea       HI   96701   \n",
       "1            1225 Breckenridge Drive  Little Rock       AR   72205   \n",
       "2     1155 West Linda Avenue Suite B    Hermiston       OR   97838   \n",
       "3            1010 South Birch Avenue      Hallock       MN   56728   \n",
       "4        100 North Eagle Creek Drive    Lexington       KY   40509   \n",
       "\n",
       "        bizPhone  bizFax  ...                   bizURL locAreaCode  locFIPS  \\\n",
       "0  (808)487-2477     NaN  ...                      NaN         808    15003   \n",
       "1  (501)225-2594     NaN  ...                      NaN         501     5119   \n",
       "2  (541)289-1122     NaN  ...                      NaN         541    41059   \n",
       "3  (218)843-2525     NaN  ...                      NaN         218    27069   \n",
       "4  (859)258-4000     NaN  ...  www.lexingtonclinic.com         859    21067   \n",
       "\n",
       "   locTimeZone locDST   locLat   locLong  locMSA  locPMSA  locCounty  \n",
       "0        PST-2      N  21.3980 -157.8981  3320.0      NaN   Honolulu  \n",
       "1          CST      Y  34.7495  -92.3533  4400.0      NaN    Pulaski  \n",
       "2          PST      Y  45.8456 -119.2817     NaN      NaN   Umatilla  \n",
       "3          CST      Y  48.7954  -97.0090     NaN      NaN    Kittson  \n",
       "4          EST      Y  37.9935  -84.3712  4280.0      NaN    Fayette  \n",
       "\n",
       "[5 rows x 21 columns]"
      ]
     },
     "execution_count": 4,
     "metadata": {},
     "output_type": "execute_result"
    }
   ],
   "source": [
    "df = pd.read_csv('clinics.csv', delimiter='|')\n",
    "\n",
    "df.head()"
   ]
  },
  {
   "cell_type": "markdown",
   "metadata": {},
   "source": [
    "Defining the distance function:"
   ]
  },
  {
   "cell_type": "code",
   "execution_count": 5,
   "metadata": {},
   "outputs": [],
   "source": [
    "def haversine(lat1, lon1, lat2, lon2):\n",
    "    MILES = 3959\n",
    "    lat1, lon1, lat2, lon2 = map(np.deg2rad, [lat1, lon1, lat2, lon2])\n",
    "    dlat = lat2 - lat1 \n",
    "    dlon = lon2 - lon1 \n",
    "    a = np.sin(dlat/2)**2 + np.cos(lat1) * np.cos(lat2) * np.sin(dlon/2)**2\n",
    "    c = 2 * np.arcsin(np.sqrt(a)) \n",
    "    total_miles = MILES * c\n",
    "    return total_miles"
   ]
  },
  {
   "cell_type": "markdown",
   "metadata": {},
   "source": [
    "Method 1: Looping"
   ]
  },
  {
   "cell_type": "code",
   "execution_count": 17,
   "metadata": {},
   "outputs": [
    {
     "name": "stdout",
     "output_type": "stream",
     "text": [
      "5.54 ms ± 7.64 µs per loop (mean ± std. dev. of 7 runs, 100 loops each)\n"
     ]
    }
   ],
   "source": [
    "%%timeit\n",
    "def haversine_looping(df):\n",
    "    distance_list = []\n",
    "    for i in range(0, len(df)):\n",
    "        d = haversine(40.671, -73.985, df.iloc[i]['locLat'], df.iloc[i]['locLong'])\n",
    "        distance_list.append(d)\n",
    "    return distance_list\n",
    "\n",
    "df['distnace'] = haversine_looping(df)"
   ]
  },
  {
   "cell_type": "markdown",
   "metadata": {},
   "source": [
    "Method 2: Haversine applied on rows via iteration"
   ]
  },
  {
   "cell_type": "code",
   "execution_count": 9,
   "metadata": {},
   "outputs": [
    {
     "name": "stdout",
     "output_type": "stream",
     "text": [
      "1.56 ms ± 2.61 µs per loop (mean ± std. dev. of 7 runs, 1000 loops each)\n"
     ]
    }
   ],
   "source": [
    "\n",
    "%%timeit\n",
    "haversine_series = []\n",
    "\n",
    "for index, row in df.iterrows():\n",
    "    haversine_series.append(haversine(40.671, -73.985, row['locLat'], row['locLong']))\n",
    "\n",
    "df['distance'] = haversine_series"
   ]
  },
  {
   "cell_type": "markdown",
   "metadata": {},
   "source": [
    "Method 3: Timing apply on the Haversine function"
   ]
  },
  {
   "cell_type": "code",
   "execution_count": 13,
   "metadata": {},
   "outputs": [
    {
     "name": "stdout",
     "output_type": "stream",
     "text": [
      "969 µs ± 968 ns per loop (mean ± std. dev. of 7 runs, 1000 loops each)\n"
     ]
    }
   ],
   "source": [
    "%%timeit\n",
    "df['distance'] = df.apply(lambda row: haversine(40.671, -73.985, row['locLat'], row['locLong']), axis=1)"
   ]
  },
  {
   "cell_type": "markdown",
   "metadata": {},
   "source": [
    "Method 4: Vectorized implementation of Haversine applied on Pandas series"
   ]
  },
  {
   "cell_type": "code",
   "execution_count": 14,
   "metadata": {},
   "outputs": [
    {
     "name": "stdout",
     "output_type": "stream",
     "text": [
      "1.03 ms ± 1.45 µs per loop (mean ± std. dev. of 7 runs, 1000 loops each)\n"
     ]
    }
   ],
   "source": [
    "%%timeit\n",
    "df['distance'] = haversine(40.671, -73.985, df['locLat'], df['locLong'])"
   ]
  },
  {
   "cell_type": "markdown",
   "metadata": {},
   "source": [
    "Method 5: Vectorized implementation of Haversine applied on NumPy arrays"
   ]
  },
  {
   "cell_type": "code",
   "execution_count": 16,
   "metadata": {},
   "outputs": [
    {
     "name": "stdout",
     "output_type": "stream",
     "text": [
      "106 µs ± 71.2 ns per loop (mean ± std. dev. of 7 runs, 10000 loops each)\n"
     ]
    }
   ],
   "source": [
    "%%timeit\n",
    "df['distance'] = haversine(40.671, -73.985, df['locLat'].values, df['locLong'].values)"
   ]
  }
 ],
 "metadata": {
  "interpreter": {
   "hash": "e2bf887c3abe45045aef93186e00cc2a709266a18717d148812aeea6abf6d50a"
  },
  "kernelspec": {
   "display_name": "Python 3.8.5 64-bit (conda)",
   "language": "python",
   "name": "python3"
  },
  "language_info": {
   "codemirror_mode": {
    "name": "ipython",
    "version": 3
   },
   "file_extension": ".py",
   "mimetype": "text/x-python",
   "name": "python",
   "nbconvert_exporter": "python",
   "pygments_lexer": "ipython3",
   "version": "3.9.7"
  },
  "orig_nbformat": 4
 },
 "nbformat": 4,
 "nbformat_minor": 2
}
